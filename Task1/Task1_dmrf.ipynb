{
 "cells": [
  {
   "cell_type": "markdown",
   "metadata": {
    "toc": true
   },
   "source": [
    "<h1>Table of Contents<span class=\"tocSkip\"></span></h1>\n",
    "<div class=\"toc\"><ul class=\"toc-item\"><li><span><a href=\"#Задание\" data-toc-modified-id=\"Задание-1\"><span class=\"toc-item-num\">1&nbsp;&nbsp;</span>Задание</a></span></li><li><span><a href=\"#Задание-*\" data-toc-modified-id=\"Задание-*-2\"><span class=\"toc-item-num\">2&nbsp;&nbsp;</span>Задание *</a></span><ul class=\"toc-item\"><li><span><a href=\"#Список-объектов\" data-toc-modified-id=\"Список-объектов-2.1\"><span class=\"toc-item-num\">2.1&nbsp;&nbsp;</span>Список объектов</a></span></li></ul></li><li><span><a href=\"#Данные-по-определенному-объекту\" data-toc-modified-id=\"Данные-по-определенному-объекту-3\"><span class=\"toc-item-num\">3&nbsp;&nbsp;</span>Данные по определенному объекту</a></span></li></ul></div>"
   ]
  },
  {
   "cell_type": "markdown",
   "metadata": {
    "pycharm": {
     "name": "#%% md\n"
    }
   },
   "source": [
    "[![Open In Colab](https://colab.research.google.com/assets/colab-badge.svg)](https://colab.research.google.com/github/ds-reboot/python-first-part/blob/main/notebooks/hometasks/Task1_dmrf.ipynb)"
   ]
  },
  {
   "cell_type": "markdown",
   "metadata": {
    "pycharm": {
     "name": "#%% md\n"
    }
   },
   "source": [
    "# Задание\n",
    "* Собрать информацию о всех строящихся объектах на сайте \"наш.дом.рф\"\n",
    "* Cохранить ее в pandas dataframe\n",
    "* Cохранить pandas dataframe в excel\n",
    "* Cохранить pandas dataframe в pickle\n",
    "* Cохранить pandas dataframe в БД\n",
    "\n",
    "# Задание *\n",
    "* Написать скрипт, который скачивает фотографии всех строящихся объектов с сайта \"наш.дом.рф\"\n"
   ]
  },
  {
   "cell_type": "code",
   "execution_count": 86,
   "metadata": {
    "pycharm": {
     "name": "#%%\n"
    }
   },
   "outputs": [],
   "source": [
    "import requests"
   ]
  },
  {
   "cell_type": "markdown",
   "metadata": {
    "pycharm": {
     "name": "#%% md\n"
    }
   },
   "source": [
    "## Список объектов"
   ]
  },
  {
   "cell_type": "code",
   "execution_count": 88,
   "metadata": {
    "pycharm": {
     "name": "#%%\n"
    }
   },
   "outputs": [],
   "source": [
    "# Для скачивания данных\n",
    "\n",
    "def get_objects_data(offset_, limit_):\n",
    "    url = f'https://xn--80az8a.xn--d1aqf.xn--p1ai/%D1%81%D0%B5%D1%80%D0%B2%D0%B8%D1%81%D1%8B/api/kn/object?offset={offset_}&limit={limit_}&sortField=devId.devShortCleanNm&sortType=asc&objStatus=0'\n",
    "    res = requests.get(url)\n",
    "    return res.json()"
   ]
  },
  {
   "cell_type": "code",
   "execution_count": 92,
   "metadata": {
    "pycharm": {
     "name": "#%%\n"
    }
   },
   "outputs": [
    {
     "data": {
      "text/plain": [
       "{'objId': 29679,\n",
       " 'developer': {'devId': 7424,\n",
       "  'shortName': '212-2',\n",
       "  'fullName': '212-2',\n",
       "  'orgForm': {'id': 20,\n",
       "   'fullForm': 'Жилищный или жилищно-строительный кооператив',\n",
       "   'shortForm': 'ЖСК'},\n",
       "  'devInn': '6154572922'},\n",
       " 'rpdRegionCd': 61,\n",
       " 'objAddr': 'г Таганрог',\n",
       " 'objElemLivingCnt': 18,\n",
       " 'objReady100PercDt': '2020-03-31',\n",
       " 'objSquareLiving': 1519.0,\n",
       " 'objCompensFundFlg': 0,\n",
       " 'objProblemFlg': 0,\n",
       " 'latitude': 47.2238,\n",
       " 'longitude': 38.8513,\n",
       " 'problemFlag': 'NONE',\n",
       " 'siteStatus': 'Строящиеся',\n",
       " 'objGuarantyEscrowFlg': 0,\n",
       " 'residentialBuildings': 1,\n",
       " 'rpdNum': '61-000818',\n",
       " 'pdId': 124647,\n",
       " 'buildType': 'Жилое',\n",
       " 'objStatus': 0}"
      ]
     },
     "execution_count": 92,
     "metadata": {},
     "output_type": "execute_result"
    }
   ],
   "source": [
    "offset_ = 0\n",
    "limit_ = 1000\n",
    "objects_data = get_objects_data(offset_, limit_)\n",
    "objects_data.get('data').get('list')[0]"
   ]
  },
  {
   "cell_type": "code",
   "execution_count": 90,
   "metadata": {},
   "outputs": [
    {
     "data": {
      "text/plain": [
       "10647"
      ]
     },
     "execution_count": 90,
     "metadata": {},
     "output_type": "execute_result"
    }
   ],
   "source": [
    "total = objects_data.get('data').get('total')\n",
    "total"
   ]
  },
  {
   "cell_type": "code",
   "execution_count": 93,
   "metadata": {},
   "outputs": [
    {
     "data": {
      "text/plain": [
       "10647"
      ]
     },
     "execution_count": 93,
     "metadata": {},
     "output_type": "execute_result"
    }
   ],
   "source": [
    "d = []\n",
    "for i in range(0, total + limit_, limit_):\n",
    "    obj_data = get_objects_data(i, limit_)\n",
    "    for obj in obj_data.get('data').get('list'):\n",
    "        d.append(obj)\n",
    "len(d)"
   ]
  },
  {
   "cell_type": "code",
   "execution_count": 94,
   "metadata": {},
   "outputs": [
    {
     "data": {
      "text/html": [
       "<div>\n",
       "<style scoped>\n",
       "    .dataframe tbody tr th:only-of-type {\n",
       "        vertical-align: middle;\n",
       "    }\n",
       "\n",
       "    .dataframe tbody tr th {\n",
       "        vertical-align: top;\n",
       "    }\n",
       "\n",
       "    .dataframe thead th {\n",
       "        text-align: right;\n",
       "    }\n",
       "</style>\n",
       "<table border=\"1\" class=\"dataframe\">\n",
       "  <thead>\n",
       "    <tr style=\"text-align: right;\">\n",
       "      <th></th>\n",
       "      <th>objId</th>\n",
       "      <th>rpdRegionCd</th>\n",
       "      <th>objAddr</th>\n",
       "      <th>objElemLivingCnt</th>\n",
       "      <th>objReady100PercDt</th>\n",
       "      <th>objSquareLiving</th>\n",
       "      <th>objCompensFundFlg</th>\n",
       "      <th>objProblemFlg</th>\n",
       "      <th>latitude</th>\n",
       "      <th>longitude</th>\n",
       "      <th>...</th>\n",
       "      <th>objFloorMin</th>\n",
       "      <th>objFloorMax</th>\n",
       "      <th>developer.groupName</th>\n",
       "      <th>developer.companyGroup</th>\n",
       "      <th>objCommercNm</th>\n",
       "      <th>complexShortName</th>\n",
       "      <th>developer.bankruptStage.bankruptStageCd</th>\n",
       "      <th>developer.bankruptStage.bankruptStageDesc</th>\n",
       "      <th>developer.bankruptStage.bankruptLawUrl</th>\n",
       "      <th>developer.orgBankruptMsgDttm</th>\n",
       "    </tr>\n",
       "  </thead>\n",
       "  <tbody>\n",
       "    <tr>\n",
       "      <th>0</th>\n",
       "      <td>29679</td>\n",
       "      <td>61</td>\n",
       "      <td>г Таганрог</td>\n",
       "      <td>18</td>\n",
       "      <td>2020-03-31</td>\n",
       "      <td>1519.00</td>\n",
       "      <td>0</td>\n",
       "      <td>0</td>\n",
       "      <td>47.2238</td>\n",
       "      <td>38.8513</td>\n",
       "      <td>...</td>\n",
       "      <td>NaN</td>\n",
       "      <td>NaN</td>\n",
       "      <td>NaN</td>\n",
       "      <td>NaN</td>\n",
       "      <td>NaN</td>\n",
       "      <td>NaN</td>\n",
       "      <td>NaN</td>\n",
       "      <td>NaN</td>\n",
       "      <td>NaN</td>\n",
       "      <td>NaN</td>\n",
       "    </tr>\n",
       "    <tr>\n",
       "      <th>1</th>\n",
       "      <td>13383</td>\n",
       "      <td>72</td>\n",
       "      <td>г Тюмень</td>\n",
       "      <td>68</td>\n",
       "      <td>2022-12-31</td>\n",
       "      <td>6293.78</td>\n",
       "      <td>1</td>\n",
       "      <td>0</td>\n",
       "      <td>57.1519</td>\n",
       "      <td>65.5536</td>\n",
       "      <td>...</td>\n",
       "      <td>4.0</td>\n",
       "      <td>20.0</td>\n",
       "      <td>2МЕН ГРУПП ДЕВЕЛОПМЕНТ</td>\n",
       "      <td>5776.0</td>\n",
       "      <td>NaN</td>\n",
       "      <td>NaN</td>\n",
       "      <td>NaN</td>\n",
       "      <td>NaN</td>\n",
       "      <td>NaN</td>\n",
       "      <td>NaN</td>\n",
       "    </tr>\n",
       "    <tr>\n",
       "      <th>2</th>\n",
       "      <td>13391</td>\n",
       "      <td>72</td>\n",
       "      <td>г Тюмень, ул Профсоюзная</td>\n",
       "      <td>44</td>\n",
       "      <td>2022-12-31</td>\n",
       "      <td>4297.44</td>\n",
       "      <td>1</td>\n",
       "      <td>0</td>\n",
       "      <td>57.1541</td>\n",
       "      <td>65.5595</td>\n",
       "      <td>...</td>\n",
       "      <td>3.0</td>\n",
       "      <td>12.0</td>\n",
       "      <td>2МЕН ГРУПП ДЕВЕЛОПМЕНТ</td>\n",
       "      <td>5776.0</td>\n",
       "      <td>NaN</td>\n",
       "      <td>NaN</td>\n",
       "      <td>NaN</td>\n",
       "      <td>NaN</td>\n",
       "      <td>NaN</td>\n",
       "      <td>NaN</td>\n",
       "    </tr>\n",
       "    <tr>\n",
       "      <th>3</th>\n",
       "      <td>13397</td>\n",
       "      <td>72</td>\n",
       "      <td>г Тюмень, ул Профсоюзная, д. 56</td>\n",
       "      <td>65</td>\n",
       "      <td>2024-12-31</td>\n",
       "      <td>6248.51</td>\n",
       "      <td>0</td>\n",
       "      <td>0</td>\n",
       "      <td>57.1519</td>\n",
       "      <td>65.5544</td>\n",
       "      <td>...</td>\n",
       "      <td>6.0</td>\n",
       "      <td>12.0</td>\n",
       "      <td>2МЕН ГРУПП ДЕВЕЛОПМЕНТ</td>\n",
       "      <td>5776.0</td>\n",
       "      <td>NaN</td>\n",
       "      <td>NaN</td>\n",
       "      <td>NaN</td>\n",
       "      <td>NaN</td>\n",
       "      <td>NaN</td>\n",
       "      <td>NaN</td>\n",
       "    </tr>\n",
       "    <tr>\n",
       "      <th>4</th>\n",
       "      <td>13398</td>\n",
       "      <td>72</td>\n",
       "      <td>г Тюмень, ул Профсоюзная, д. 56</td>\n",
       "      <td>43</td>\n",
       "      <td>2024-12-31</td>\n",
       "      <td>4812.98</td>\n",
       "      <td>0</td>\n",
       "      <td>0</td>\n",
       "      <td>57.1519</td>\n",
       "      <td>65.5544</td>\n",
       "      <td>...</td>\n",
       "      <td>7.0</td>\n",
       "      <td>10.0</td>\n",
       "      <td>2МЕН ГРУПП ДЕВЕЛОПМЕНТ</td>\n",
       "      <td>5776.0</td>\n",
       "      <td>NaN</td>\n",
       "      <td>NaN</td>\n",
       "      <td>NaN</td>\n",
       "      <td>NaN</td>\n",
       "      <td>NaN</td>\n",
       "      <td>NaN</td>\n",
       "    </tr>\n",
       "    <tr>\n",
       "      <th>5</th>\n",
       "      <td>13399</td>\n",
       "      <td>72</td>\n",
       "      <td>г Тюмень, ул Профсоюзная, д. 56</td>\n",
       "      <td>0</td>\n",
       "      <td>2024-12-31</td>\n",
       "      <td>0.00</td>\n",
       "      <td>0</td>\n",
       "      <td>0</td>\n",
       "      <td>57.1519</td>\n",
       "      <td>65.5544</td>\n",
       "      <td>...</td>\n",
       "      <td>1.0</td>\n",
       "      <td>1.0</td>\n",
       "      <td>2МЕН ГРУПП ДЕВЕЛОПМЕНТ</td>\n",
       "      <td>5776.0</td>\n",
       "      <td>NaN</td>\n",
       "      <td>NaN</td>\n",
       "      <td>NaN</td>\n",
       "      <td>NaN</td>\n",
       "      <td>NaN</td>\n",
       "      <td>NaN</td>\n",
       "    </tr>\n",
       "    <tr>\n",
       "      <th>6</th>\n",
       "      <td>36912</td>\n",
       "      <td>26</td>\n",
       "      <td>г Ставрополь, ул Шпаковская, Доваторцев, д. 10...</td>\n",
       "      <td>104</td>\n",
       "      <td>2022-12-31</td>\n",
       "      <td>8295.20</td>\n",
       "      <td>0</td>\n",
       "      <td>0</td>\n",
       "      <td>45.0200</td>\n",
       "      <td>41.9346</td>\n",
       "      <td>...</td>\n",
       "      <td>2.0</td>\n",
       "      <td>10.0</td>\n",
       "      <td>NaN</td>\n",
       "      <td>NaN</td>\n",
       "      <td>NaN</td>\n",
       "      <td>NaN</td>\n",
       "      <td>NaN</td>\n",
       "      <td>NaN</td>\n",
       "      <td>NaN</td>\n",
       "      <td>NaN</td>\n",
       "    </tr>\n",
       "    <tr>\n",
       "      <th>7</th>\n",
       "      <td>44076</td>\n",
       "      <td>52</td>\n",
       "      <td>г Нижний Новгород, район Автозаводский, ш Южно...</td>\n",
       "      <td>0</td>\n",
       "      <td>2022-09-30</td>\n",
       "      <td>0.00</td>\n",
       "      <td>0</td>\n",
       "      <td>0</td>\n",
       "      <td>56.2302</td>\n",
       "      <td>43.8707</td>\n",
       "      <td>...</td>\n",
       "      <td>6.0</td>\n",
       "      <td>6.0</td>\n",
       "      <td>NaN</td>\n",
       "      <td>NaN</td>\n",
       "      <td>NaN</td>\n",
       "      <td>NaN</td>\n",
       "      <td>NaN</td>\n",
       "      <td>NaN</td>\n",
       "      <td>NaN</td>\n",
       "      <td>NaN</td>\n",
       "    </tr>\n",
       "    <tr>\n",
       "      <th>8</th>\n",
       "      <td>27476</td>\n",
       "      <td>77</td>\n",
       "      <td>п Коммунарка, д. 17, корпус 4</td>\n",
       "      <td>99</td>\n",
       "      <td>2022-09-30</td>\n",
       "      <td>5589.50</td>\n",
       "      <td>0</td>\n",
       "      <td>0</td>\n",
       "      <td>55.5632</td>\n",
       "      <td>37.5025</td>\n",
       "      <td>...</td>\n",
       "      <td>15.0</td>\n",
       "      <td>15.0</td>\n",
       "      <td>А101 ДЕВЕЛОПМЕНТ</td>\n",
       "      <td>5863.0</td>\n",
       "      <td>Скандинавия</td>\n",
       "      <td>NaN</td>\n",
       "      <td>NaN</td>\n",
       "      <td>NaN</td>\n",
       "      <td>NaN</td>\n",
       "      <td>NaN</td>\n",
       "    </tr>\n",
       "    <tr>\n",
       "      <th>9</th>\n",
       "      <td>10891</td>\n",
       "      <td>35</td>\n",
       "      <td>г Вологда, ул Медуницинская, д. 7</td>\n",
       "      <td>225</td>\n",
       "      <td>2023-03-31</td>\n",
       "      <td>12847.23</td>\n",
       "      <td>1</td>\n",
       "      <td>0</td>\n",
       "      <td>59.1985</td>\n",
       "      <td>39.8580</td>\n",
       "      <td>...</td>\n",
       "      <td>16.0</td>\n",
       "      <td>16.0</td>\n",
       "      <td>ВологдаАгрострой</td>\n",
       "      <td>7368.0</td>\n",
       "      <td>Жилой комплекс \"Рафинад\"</td>\n",
       "      <td>NaN</td>\n",
       "      <td>NaN</td>\n",
       "      <td>NaN</td>\n",
       "      <td>NaN</td>\n",
       "      <td>NaN</td>\n",
       "    </tr>\n",
       "  </tbody>\n",
       "</table>\n",
       "<p>10 rows × 35 columns</p>\n",
       "</div>"
      ],
      "text/plain": [
       "   objId  rpdRegionCd                                            objAddr  \\\n",
       "0  29679           61                                         г Таганрог   \n",
       "1  13383           72                                           г Тюмень   \n",
       "2  13391           72                           г Тюмень, ул Профсоюзная   \n",
       "3  13397           72                    г Тюмень, ул Профсоюзная, д. 56   \n",
       "4  13398           72                    г Тюмень, ул Профсоюзная, д. 56   \n",
       "5  13399           72                    г Тюмень, ул Профсоюзная, д. 56   \n",
       "6  36912           26  г Ставрополь, ул Шпаковская, Доваторцев, д. 10...   \n",
       "7  44076           52  г Нижний Новгород, район Автозаводский, ш Южно...   \n",
       "8  27476           77                      п Коммунарка, д. 17, корпус 4   \n",
       "9  10891           35                  г Вологда, ул Медуницинская, д. 7   \n",
       "\n",
       "   objElemLivingCnt objReady100PercDt  objSquareLiving  objCompensFundFlg  \\\n",
       "0                18        2020-03-31          1519.00                  0   \n",
       "1                68        2022-12-31          6293.78                  1   \n",
       "2                44        2022-12-31          4297.44                  1   \n",
       "3                65        2024-12-31          6248.51                  0   \n",
       "4                43        2024-12-31          4812.98                  0   \n",
       "5                 0        2024-12-31             0.00                  0   \n",
       "6               104        2022-12-31          8295.20                  0   \n",
       "7                 0        2022-09-30             0.00                  0   \n",
       "8                99        2022-09-30          5589.50                  0   \n",
       "9               225        2023-03-31         12847.23                  1   \n",
       "\n",
       "   objProblemFlg  latitude  longitude  ... objFloorMin objFloorMax  \\\n",
       "0              0   47.2238    38.8513  ...         NaN         NaN   \n",
       "1              0   57.1519    65.5536  ...         4.0        20.0   \n",
       "2              0   57.1541    65.5595  ...         3.0        12.0   \n",
       "3              0   57.1519    65.5544  ...         6.0        12.0   \n",
       "4              0   57.1519    65.5544  ...         7.0        10.0   \n",
       "5              0   57.1519    65.5544  ...         1.0         1.0   \n",
       "6              0   45.0200    41.9346  ...         2.0        10.0   \n",
       "7              0   56.2302    43.8707  ...         6.0         6.0   \n",
       "8              0   55.5632    37.5025  ...        15.0        15.0   \n",
       "9              0   59.1985    39.8580  ...        16.0        16.0   \n",
       "\n",
       "      developer.groupName  developer.companyGroup              objCommercNm  \\\n",
       "0                     NaN                     NaN                       NaN   \n",
       "1  2МЕН ГРУПП ДЕВЕЛОПМЕНТ                  5776.0                       NaN   \n",
       "2  2МЕН ГРУПП ДЕВЕЛОПМЕНТ                  5776.0                       NaN   \n",
       "3  2МЕН ГРУПП ДЕВЕЛОПМЕНТ                  5776.0                       NaN   \n",
       "4  2МЕН ГРУПП ДЕВЕЛОПМЕНТ                  5776.0                       NaN   \n",
       "5  2МЕН ГРУПП ДЕВЕЛОПМЕНТ                  5776.0                       NaN   \n",
       "6                     NaN                     NaN                       NaN   \n",
       "7                     NaN                     NaN                       NaN   \n",
       "8        А101 ДЕВЕЛОПМЕНТ                  5863.0               Скандинавия   \n",
       "9        ВологдаАгрострой                  7368.0  Жилой комплекс \"Рафинад\"   \n",
       "\n",
       "   complexShortName developer.bankruptStage.bankruptStageCd  \\\n",
       "0               NaN                                     NaN   \n",
       "1               NaN                                     NaN   \n",
       "2               NaN                                     NaN   \n",
       "3               NaN                                     NaN   \n",
       "4               NaN                                     NaN   \n",
       "5               NaN                                     NaN   \n",
       "6               NaN                                     NaN   \n",
       "7               NaN                                     NaN   \n",
       "8               NaN                                     NaN   \n",
       "9               NaN                                     NaN   \n",
       "\n",
       "   developer.bankruptStage.bankruptStageDesc  \\\n",
       "0                                        NaN   \n",
       "1                                        NaN   \n",
       "2                                        NaN   \n",
       "3                                        NaN   \n",
       "4                                        NaN   \n",
       "5                                        NaN   \n",
       "6                                        NaN   \n",
       "7                                        NaN   \n",
       "8                                        NaN   \n",
       "9                                        NaN   \n",
       "\n",
       "   developer.bankruptStage.bankruptLawUrl developer.orgBankruptMsgDttm  \n",
       "0                                     NaN                          NaN  \n",
       "1                                     NaN                          NaN  \n",
       "2                                     NaN                          NaN  \n",
       "3                                     NaN                          NaN  \n",
       "4                                     NaN                          NaN  \n",
       "5                                     NaN                          NaN  \n",
       "6                                     NaN                          NaN  \n",
       "7                                     NaN                          NaN  \n",
       "8                                     NaN                          NaN  \n",
       "9                                     NaN                          NaN  \n",
       "\n",
       "[10 rows x 35 columns]"
      ]
     },
     "execution_count": 94,
     "metadata": {},
     "output_type": "execute_result"
    }
   ],
   "source": [
    "#соханяем в pandas dataframe\n",
    "import pandas as pd\n",
    "\n",
    "df = pd.json_normalize(d)\n",
    "df.head(10)"
   ]
  },
  {
   "cell_type": "code",
   "execution_count": 95,
   "metadata": {
    "pycharm": {
     "name": "#%%\n"
    }
   },
   "outputs": [],
   "source": [
    "#сохраняем pandas dataframe в excel\n",
    "df.to_excel('dmrf.xlsx')"
   ]
  },
  {
   "cell_type": "code",
   "execution_count": 96,
   "metadata": {
    "pycharm": {
     "name": "#%%\n"
    }
   },
   "outputs": [],
   "source": [
    "#сохраняем pandas dataframe pickle\n",
    "df.to_pickle('dmrf.pkl')"
   ]
  },
  {
   "cell_type": "code",
   "execution_count": 98,
   "metadata": {
    "pycharm": {
     "name": "#%%\n"
    }
   },
   "outputs": [],
   "source": [
    "#сохраняем pandas dataframe БД\n",
    "import sqlite3\n",
    "\n",
    "conn = sqlite3.connect('test_database')\n",
    "df.to_sql('dmrf', conn, if_exists='replace', index = False)\n",
    "conn.commit()\n",
    "conn.close()"
   ]
  }
 ],
 "metadata": {
  "kernelspec": {
   "display_name": "Python 3",
   "language": "python",
   "name": "python3"
  },
  "language_info": {
   "codemirror_mode": {
    "name": "ipython",
    "version": 3
   },
   "file_extension": ".py",
   "mimetype": "text/x-python",
   "name": "python",
   "nbconvert_exporter": "python",
   "pygments_lexer": "ipython3",
   "version": "3.7.6"
  },
  "toc": {
   "base_numbering": 1,
   "nav_menu": {},
   "number_sections": true,
   "sideBar": true,
   "skip_h1_title": false,
   "title_cell": "Table of Contents",
   "title_sidebar": "Contents",
   "toc_cell": true,
   "toc_position": {},
   "toc_section_display": true,
   "toc_window_display": false
  }
 },
 "nbformat": 4,
 "nbformat_minor": 1
}
